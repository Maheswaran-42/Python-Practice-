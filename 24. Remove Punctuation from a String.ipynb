{
 "cells": [
  {
   "cell_type": "code",
   "execution_count": 1,
   "id": "6b7e47a2-8e13-471d-8ec7-ba9edd2c19cc",
   "metadata": {},
   "outputs": [
    {
     "name": "stdin",
     "output_type": "stream",
     "text": [
      "enter the nmae: maj@$*@*\n"
     ]
    },
    {
     "data": {
      "text/plain": [
       "' maj'"
      ]
     },
     "execution_count": 1,
     "metadata": {},
     "output_type": "execute_result"
    }
   ],
   "source": [
    "import string\n",
    "a=input(\"enter the nmae:\")\n",
    "b=\" \"\n",
    "for i in a:\n",
    "    if i not in string.punctuation:\n",
    "        b += i\n",
    "b\n"
   ]
  },
  {
   "cell_type": "code",
   "execution_count": 2,
   "id": "6a260559-7b4e-467c-926b-74dcecb1a268",
   "metadata": {},
   "outputs": [
    {
     "name": "stdin",
     "output_type": "stream",
     "text": [
      "enter a string ckqo@#^@&\n"
     ]
    },
    {
     "name": "stdout",
     "output_type": "stream",
     "text": [
      "ckqo\n"
     ]
    }
   ],
   "source": [
    "a=input(\"enter a string\")\n",
    "result=\"\"\n",
    "for i in a:\n",
    "    if i.isalnum() or i.isspace():\n",
    "        result +=i\n",
    "        \n",
    "print(result)"
   ]
  },
  {
   "cell_type": "code",
   "execution_count": 2,
   "id": "e12d50df-b66c-4395-8a77-1cec530e0d94",
   "metadata": {},
   "outputs": [
    {
     "name": "stdin",
     "output_type": "stream",
     "text": [
      "enter  kfofao$%^&*\n"
     ]
    },
    {
     "data": {
      "text/plain": [
       "'kfofao'"
      ]
     },
     "execution_count": 2,
     "metadata": {},
     "output_type": "execute_result"
    }
   ],
   "source": [
    "a=input(\"enter \")\n",
    "c=\"\"\n",
    "for i in a:\n",
    "    if i.isalnum() or i.isspace():\n",
    "       c+=i\n",
    "c"
   ]
  },
  {
   "cell_type": "code",
   "execution_count": null,
   "id": "33a0e627-c1af-4a1f-b89c-cf5612035e64",
   "metadata": {},
   "outputs": [],
   "source": []
  }
 ],
 "metadata": {
  "kernelspec": {
   "display_name": "Python 3 (ipykernel)",
   "language": "python",
   "name": "python3"
  },
  "language_info": {
   "codemirror_mode": {
    "name": "ipython",
    "version": 3
   },
   "file_extension": ".py",
   "mimetype": "text/x-python",
   "name": "python",
   "nbconvert_exporter": "python",
   "pygments_lexer": "ipython3",
   "version": "3.12.7"
  }
 },
 "nbformat": 4,
 "nbformat_minor": 5
}
