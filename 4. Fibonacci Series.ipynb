{
 "cells": [
  {
   "cell_type": "code",
   "execution_count": 1,
   "id": "99812ee0-87fb-485c-ae39-76f6c6cf29c4",
   "metadata": {},
   "outputs": [
    {
     "name": "stdin",
     "output_type": "stream",
     "text": [
      "enter the num: 4\n"
     ]
    },
    {
     "name": "stdout",
     "output_type": "stream",
     "text": [
      "0 1 1 2 "
     ]
    }
   ],
   "source": [
    "num=int(input(\"enter the num:\"))\n",
    "def prime(num):\n",
    "    a=0\n",
    "    b=1\n",
    "    print(a,b,end= \" \")\n",
    "    for i in range(2,num):\n",
    "        c=a+b\n",
    "        print(c,end =\" \")\n",
    "        a,b=b,c\n",
    "prime(num)\n",
    "        "
   ]
  },
  {
   "cell_type": "code",
   "execution_count": null,
   "id": "bc829eaf-e2a6-4b80-8b0c-486707a32999",
   "metadata": {},
   "outputs": [],
   "source": []
  }
 ],
 "metadata": {
  "kernelspec": {
   "display_name": "Python 3 (ipykernel)",
   "language": "python",
   "name": "python3"
  },
  "language_info": {
   "codemirror_mode": {
    "name": "ipython",
    "version": 3
   },
   "file_extension": ".py",
   "mimetype": "text/x-python",
   "name": "python",
   "nbconvert_exporter": "python",
   "pygments_lexer": "ipython3",
   "version": "3.12.7"
  }
 },
 "nbformat": 4,
 "nbformat_minor": 5
}
