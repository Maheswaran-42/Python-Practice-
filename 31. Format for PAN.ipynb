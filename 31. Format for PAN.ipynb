{
 "cells": [
  {
   "cell_type": "markdown",
   "id": "2ac8c882-751c-4f90-b8b0-524118fdb124",
   "metadata": {},
   "source": [
    "Format: 5 uppercase letters + 4 digits + 1 uppercase letter\n",
    "\n",
    "Input: \"ABCDE1234F\"  \n",
    "Output: \"Valid PAN\"\n"
   ]
  },
  {
   "cell_type": "code",
   "execution_count": null,
   "id": "89a60c2f-841c-474a-a99f-02f91cfc29fa",
   "metadata": {},
   "outputs": [],
   "source": [
    "a=input(\"enter the PAN name\")\n",
    "if a[0:5].isupper() and a[5:9].isdigit() and a[9].isupper():\n",
    "    print(\"valid pan\")\n",
    "else:\n",
    "    print(\"not valid pan\")\n",
    "    "
   ]
  },
  {
   "cell_type": "code",
   "execution_count": null,
   "id": "61517e35-8036-4e08-8d20-1eb626870d66",
   "metadata": {},
   "outputs": [],
   "source": []
  }
 ],
 "metadata": {
  "kernelspec": {
   "display_name": "Python 3 (ipykernel)",
   "language": "python",
   "name": "python3"
  },
  "language_info": {
   "codemirror_mode": {
    "name": "ipython",
    "version": 3
   },
   "file_extension": ".py",
   "mimetype": "text/x-python",
   "name": "python",
   "nbconvert_exporter": "python",
   "pygments_lexer": "ipython3",
   "version": "3.12.7"
  }
 },
 "nbformat": 4,
 "nbformat_minor": 5
}
