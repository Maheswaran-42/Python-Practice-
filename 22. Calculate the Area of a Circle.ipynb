{
 "cells": [
  {
   "cell_type": "code",
   "execution_count": 2,
   "id": "7578b086-5f2e-46d6-815c-e081d74ed9ab",
   "metadata": {},
   "outputs": [
    {
     "name": "stdin",
     "output_type": "stream",
     "text": [
      "Enter the radius:  3\n"
     ]
    },
    {
     "name": "stdout",
     "output_type": "stream",
     "text": [
      "The area of the circle for radius  is 28.259999999999998\n"
     ]
    }
   ],
   "source": [
    "a = int(input(\"Enter the radius: \"))\n",
    "area = 3.14 * a * a\n",
    "print(f\"The area of the circle for radius  is {area}\")\n"
   ]
  },
  {
   "cell_type": "code",
   "execution_count": null,
   "id": "62674b9f-27e6-4bc4-8e96-ab4806984324",
   "metadata": {},
   "outputs": [],
   "source": []
  }
 ],
 "metadata": {
  "kernelspec": {
   "display_name": "Python 3 (ipykernel)",
   "language": "python",
   "name": "python3"
  },
  "language_info": {
   "codemirror_mode": {
    "name": "ipython",
    "version": 3
   },
   "file_extension": ".py",
   "mimetype": "text/x-python",
   "name": "python",
   "nbconvert_exporter": "python",
   "pygments_lexer": "ipython3",
   "version": "3.12.7"
  }
 },
 "nbformat": 4,
 "nbformat_minor": 5
}
