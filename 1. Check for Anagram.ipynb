{
 "cells": [
  {
   "cell_type": "code",
   "execution_count": 1,
   "id": "918d0bed-215b-40d1-a9ab-b7d9cec5e0cf",
   "metadata": {},
   "outputs": [
    {
     "name": "stdin",
     "output_type": "stream",
     "text": [
      "enter the first letter: mahes\n",
      "enter the second letter: seham\n"
     ]
    },
    {
     "data": {
      "text/plain": [
       "True"
      ]
     },
     "execution_count": 1,
     "metadata": {},
     "output_type": "execute_result"
    }
   ],
   "source": [
    "a=input(\"enter the first letter:\")\n",
    "b=input(\"enter the second letter:\")\n",
    "\n",
    "def anagram (a,b):\n",
    "    for char in a :\n",
    "       if a.count(char) != b.count(char):\n",
    "        return False\n",
    "    return True\n",
    "anagram(a,b)"
   ]
  },
  {
   "cell_type": "code",
   "execution_count": null,
   "id": "e574c882-bbb4-49c8-a68a-4a5c87d5d150",
   "metadata": {},
   "outputs": [],
   "source": []
  }
 ],
 "metadata": {
  "kernelspec": {
   "display_name": "Python 3 (ipykernel)",
   "language": "python",
   "name": "python3"
  },
  "language_info": {
   "codemirror_mode": {
    "name": "ipython",
    "version": 3
   },
   "file_extension": ".py",
   "mimetype": "text/x-python",
   "name": "python",
   "nbconvert_exporter": "python",
   "pygments_lexer": "ipython3",
   "version": "3.12.7"
  }
 },
 "nbformat": 4,
 "nbformat_minor": 5
}
