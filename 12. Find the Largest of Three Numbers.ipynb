{
 "cells": [
  {
   "cell_type": "markdown",
   "id": "243fb3f4-dfeb-4e34-9d82-c9d290282767",
   "metadata": {},
   "source": [
    "Using sort():"
   ]
  },
  {
   "cell_type": "code",
   "execution_count": 1,
   "id": "9d4000fc-f207-4d92-9ce9-e27a5ad64797",
   "metadata": {},
   "outputs": [
    {
     "data": {
      "text/plain": [
       "(7, 6, 5)"
      ]
     },
     "execution_count": 1,
     "metadata": {},
     "output_type": "execute_result"
    }
   ],
   "source": [
    "a=[1,2,3,4,5,7,6]\n",
    "b=list(set(a))\n",
    "b.sort()\n",
    "largest=b[-1]\n",
    "second_largest=b[-2]\n",
    "third_largest=b[-3]\n",
    "c=(largest,second_largest,third_largest)\n",
    "c"
   ]
  },
  {
   "cell_type": "markdown",
   "id": "39bd58b6-9bdd-4e4e-b5ff-42322900f0d2",
   "metadata": {},
   "source": [
    "without using sort():"
   ]
  },
  {
   "cell_type": "code",
   "execution_count": 2,
   "id": "5ec5048b-6c36-43a6-ac12-7681a81b885b",
   "metadata": {},
   "outputs": [
    {
     "name": "stdin",
     "output_type": "stream",
     "text": [
      "enter the num1 3 \n",
      "enter the num2 \n",
      "enter the num3 2\n"
     ]
    },
    {
     "name": "stdout",
     "output_type": "stream",
     "text": [
      "a is largest\n"
     ]
    }
   ],
   "source": [
    "a=input(\"enter the num1\")\n",
    "b=input(\"enter the num2\")\n",
    "c=input(\"enter the num3\")\n",
    "if a > b and a > c :\n",
    "    print(\"a is largest\")\n",
    "elif b> a and b > c:\n",
    "    print(\"b is largest\")\n",
    "else:\n",
    "    print(\" c is largest\")\n",
    "    \n"
   ]
  },
  {
   "cell_type": "code",
   "execution_count": null,
   "id": "28cab103-e98c-4bad-9650-56add5a7efa3",
   "metadata": {},
   "outputs": [],
   "source": []
  }
 ],
 "metadata": {
  "kernelspec": {
   "display_name": "Python 3 (ipykernel)",
   "language": "python",
   "name": "python3"
  },
  "language_info": {
   "codemirror_mode": {
    "name": "ipython",
    "version": 3
   },
   "file_extension": ".py",
   "mimetype": "text/x-python",
   "name": "python",
   "nbconvert_exporter": "python",
   "pygments_lexer": "ipython3",
   "version": "3.12.7"
  }
 },
 "nbformat": 4,
 "nbformat_minor": 5
}
