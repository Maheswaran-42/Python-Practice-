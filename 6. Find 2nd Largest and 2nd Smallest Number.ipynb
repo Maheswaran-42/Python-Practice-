{
 "cells": [
  {
   "cell_type": "markdown",
   "id": "37b4b5f9-44fa-4a3c-a482-17010db2acb6",
   "metadata": {},
   "source": [
    "using sort() func"
   ]
  },
  {
   "cell_type": "code",
   "execution_count": 1,
   "id": "bd362438-9b80-4385-beee-cebbd699b4e9",
   "metadata": {},
   "outputs": [
    {
     "name": "stdout",
     "output_type": "stream",
     "text": [
      "9893 34\n"
     ]
    }
   ],
   "source": [
    "a=[13,34,874,873,873,9893,98807]\n",
    "b=list(set(a))\n",
    "b.sort()\n",
    "secl=b[-2]\n",
    "secs=b[1]\n",
    "print(secl,secs)"
   ]
  },
  {
   "cell_type": "markdown",
   "id": "25e34079-dfe8-4adc-b08d-6d103eb2767c",
   "metadata": {},
   "source": [
    "without using sort() func"
   ]
  },
  {
   "cell_type": "code",
   "execution_count": 4,
   "id": "23d83810-57b3-4ae3-a73e-4d6b2c6a02db",
   "metadata": {},
   "outputs": [
    {
     "name": "stdout",
     "output_type": "stream",
     "text": [
      "9893\n",
      "13\n"
     ]
    }
   ],
   "source": [
    "a = [13, 34, 874, 873, 873, 9893, 98807]\n",
    "b = list(set(a))\n",
    "largest = second_largest = float('-inf')\n",
    "smallest = second_smallest = float('inf')\n",
    "for num in b:\n",
    "    if num > largest:\n",
    "        second_largest = largest\n",
    "        largest = num\n",
    "    elif num > second_largest and num != largest:\n",
    "        second_largest = num\n",
    "for num in b:\n",
    "    if num < smallest:\n",
    "        second_smallest = smallest\n",
    "        smallest = num\n",
    "        second_smallest = num\n",
    "print(second_largest)\n",
    "print(second_smallest)\n"
   ]
  },
  {
   "cell_type": "code",
   "execution_count": null,
   "id": "1bf89849-6a23-4df6-86a8-22bc04f71c34",
   "metadata": {},
   "outputs": [],
   "source": []
  }
 ],
 "metadata": {
  "kernelspec": {
   "display_name": "Python 3 (ipykernel)",
   "language": "python",
   "name": "python3"
  },
  "language_info": {
   "codemirror_mode": {
    "name": "ipython",
    "version": 3
   },
   "file_extension": ".py",
   "mimetype": "text/x-python",
   "name": "python",
   "nbconvert_exporter": "python",
   "pygments_lexer": "ipython3",
   "version": "3.12.7"
  }
 },
 "nbformat": 4,
 "nbformat_minor": 5
}
