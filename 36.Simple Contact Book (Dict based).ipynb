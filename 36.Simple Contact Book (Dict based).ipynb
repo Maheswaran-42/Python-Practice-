{
 "cells": [
  {
   "cell_type": "code",
   "execution_count": 1,
   "id": "fded0ca7-e276-4047-badc-b3e31ba22703",
   "metadata": {},
   "outputs": [
    {
     "name": "stdin",
     "output_type": "stream",
     "text": [
      "what you need to search in contact: mahes\n"
     ]
    },
    {
     "name": "stdout",
     "output_type": "stream",
     "text": [
      "8778677620\n"
     ]
    }
   ],
   "source": [
    "a={\"mahes\":\"8778677620\",\"mahes1\":\"8248627667\"}\n",
    "search = input(\"what you need to search in contact:\")\n",
    "if search in a:\n",
    "    print(a[search])\n",
    "else:\n",
    "    print(\"not found\")\n",
    "    "
   ]
  },
  {
   "cell_type": "code",
   "execution_count": null,
   "id": "19cf510a-5d0f-4e8a-a7fd-59da47e704de",
   "metadata": {},
   "outputs": [],
   "source": []
  }
 ],
 "metadata": {
  "kernelspec": {
   "display_name": "Python 3 (ipykernel)",
   "language": "python",
   "name": "python3"
  },
  "language_info": {
   "codemirror_mode": {
    "name": "ipython",
    "version": 3
   },
   "file_extension": ".py",
   "mimetype": "text/x-python",
   "name": "python",
   "nbconvert_exporter": "python",
   "pygments_lexer": "ipython3",
   "version": "3.12.7"
  }
 },
 "nbformat": 4,
 "nbformat_minor": 5
}
