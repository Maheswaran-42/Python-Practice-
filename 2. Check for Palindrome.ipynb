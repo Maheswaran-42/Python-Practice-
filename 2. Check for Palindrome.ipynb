{
 "cells": [
  {
   "cell_type": "code",
   "execution_count": 1,
   "id": "e476a281-c28d-4d0f-a999-0b2fef3f6d94",
   "metadata": {},
   "outputs": [
    {
     "name": "stdin",
     "output_type": "stream",
     "text": [
      "enter the first letter: mahes\n"
     ]
    },
    {
     "name": "stdout",
     "output_type": "stream",
     "text": [
      " not a palindrome\n"
     ]
    }
   ],
   "source": [
    "a=input(\"enter the first letter:\")\n",
    "def palindrome (a):\n",
    "        if a==a[::-1]:\n",
    "            print(\"palindrome\")\n",
    "        else:\n",
    "            print(\" not a palindrome\")\n",
    "palindrome(a)"
   ]
  },
  {
   "cell_type": "code",
   "execution_count": null,
   "id": "f78c7663-f0a2-4287-9443-98f971b36f56",
   "metadata": {},
   "outputs": [],
   "source": []
  }
 ],
 "metadata": {
  "kernelspec": {
   "display_name": "Python 3 (ipykernel)",
   "language": "python",
   "name": "python3"
  },
  "language_info": {
   "codemirror_mode": {
    "name": "ipython",
    "version": 3
   },
   "file_extension": ".py",
   "mimetype": "text/x-python",
   "name": "python",
   "nbconvert_exporter": "python",
   "pygments_lexer": "ipython3",
   "version": "3.12.7"
  }
 },
 "nbformat": 4,
 "nbformat_minor": 5
}
