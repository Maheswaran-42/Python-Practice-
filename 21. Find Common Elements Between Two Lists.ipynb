{
 "cells": [
  {
   "cell_type": "code",
   "execution_count": 1,
   "id": "e1edbce8-9bd3-40fe-9c51-eca969527979",
   "metadata": {},
   "outputs": [
    {
     "name": "stdin",
     "output_type": "stream",
     "text": [
      "enter the num 1 : 1 2 3 3 4 4 5\n",
      "enter the num 2 : 3 4 54\n"
     ]
    },
    {
     "name": "stdout",
     "output_type": "stream",
     "text": [
      "[' ', '3', '4', '5']\n"
     ]
    }
   ],
   "source": [
    "a=list(input(\"enter the num 1 :\"))\n",
    "b=list(input(\"enter the num 2 :\"))\n",
    "1 c=[]\n",
    "for i in a :\n",
    "    if i in b and i not in c:\n",
    "        c.append(i)\n",
    "print(c)\n",
    "   "
   ]
  },
  {
   "cell_type": "code",
   "execution_count": 1,
   "id": "50450f02-7d00-4bbf-9254-07954d2b135d",
   "metadata": {},
   "outputs": [
    {
     "name": "stdout",
     "output_type": "stream",
     "text": [
      "[3, 4, 5]\n"
     ]
    }
   ],
   "source": [
    "a=[1,2,3,3,4,4,5]\n",
    "b=[3,4,5]\n",
    "c=[]\n",
    "for i in a :\n",
    "    if i in b and i not in c:\n",
    "        c.append(i)\n",
    "print(c)\n",
    "   "
   ]
  },
  {
   "cell_type": "code",
   "execution_count": 2,
   "id": "ddbf44cd-21e4-4326-ad93-0687fe6e604a",
   "metadata": {},
   "outputs": [
    {
     "data": {
      "text/plain": [
       "[3, 4, 5]"
      ]
     },
     "execution_count": 2,
     "metadata": {},
     "output_type": "execute_result"
    }
   ],
   "source": [
    "a=[1,2,3,3,4,4,5]\n",
    "b=[3,4,5]\n",
    "c=[]\n",
    "for i in a :\n",
    "    if i in b and i not in c:\n",
    "        c.append(i)\n",
    "c"
   ]
  },
  {
   "cell_type": "code",
   "execution_count": null,
   "id": "475da0e9-2623-4cd0-a17b-7f91e5413009",
   "metadata": {},
   "outputs": [],
   "source": []
  }
 ],
 "metadata": {
  "kernelspec": {
   "display_name": "Python 3 (ipykernel)",
   "language": "python",
   "name": "python3"
  },
  "language_info": {
   "codemirror_mode": {
    "name": "ipython",
    "version": 3
   },
   "file_extension": ".py",
   "mimetype": "text/x-python",
   "name": "python",
   "nbconvert_exporter": "python",
   "pygments_lexer": "ipython3",
   "version": "3.12.7"
  }
 },
 "nbformat": 4,
 "nbformat_minor": 5
}
