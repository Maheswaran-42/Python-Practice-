{
 "cells": [
  {
   "cell_type": "markdown",
   "id": "33b195fb-62b6-4d28-b374-71c4fc5ef0c8",
   "metadata": {},
   "source": [
    "Ascending order"
   ]
  },
  {
   "cell_type": "code",
   "execution_count": 1,
   "id": "f5f6a07d-ea42-4da9-ba1d-a97abb9cc2e8",
   "metadata": {},
   "outputs": [
    {
     "name": "stdout",
     "output_type": "stream",
     "text": [
      "[1, 3, 12, 3432, 5666]\n"
     ]
    }
   ],
   "source": [
    "## asc\n",
    "l1=[12,3432,5666,3,1]\n",
    "b = []\n",
    "for value in range (0,len(l1)):\n",
    "    for value1 in range (value+1,len(l1)):\n",
    "       if l1[value] >= l1[value1]:\n",
    "          l1[value],l1[value1] = l1[value1],l1[value]\n",
    "print (l1)  "
   ]
  },
  {
   "cell_type": "markdown",
   "id": "c5c9695f-0759-4f3d-aed8-b47a04610c1d",
   "metadata": {},
   "source": [
    "descending order"
   ]
  },
  {
   "cell_type": "code",
   "execution_count": null,
   "id": "1ee8858c-e0fc-4aed-94bc-bb19c0cef1a6",
   "metadata": {},
   "outputs": [],
   "source": [
    "a = input(\"enter your value with space :\").split()\n",
    "a1=[]\n",
    "for via in a:\n",
    "    a1.append(int(via))\n",
    "    for k in range(0,len(a1)):\n",
    "       for m in range(k+1,len(a1)):\n",
    "          if a1[k] <= a1[m]:\n",
    "              a1[k],a1[m] = a1[m],a1[k]\n",
    "print (\"mini\",a1)\n"
   ]
  },
  {
   "cell_type": "code",
   "execution_count": null,
   "id": "b9a68b0d-de24-43d0-98ba-b51aeb10a692",
   "metadata": {},
   "outputs": [],
   "source": []
  }
 ],
 "metadata": {
  "kernelspec": {
   "display_name": "Python 3 (ipykernel)",
   "language": "python",
   "name": "python3"
  },
  "language_info": {
   "codemirror_mode": {
    "name": "ipython",
    "version": 3
   },
   "file_extension": ".py",
   "mimetype": "text/x-python",
   "name": "python",
   "nbconvert_exporter": "python",
   "pygments_lexer": "ipython3",
   "version": "3.12.7"
  }
 },
 "nbformat": 4,
 "nbformat_minor": 5
}
