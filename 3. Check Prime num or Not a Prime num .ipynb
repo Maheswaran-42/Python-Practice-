{
 "cells": [
  {
   "cell_type": "code",
   "execution_count": null,
   "id": "ef9e1eca-34b9-4513-ae5e-d32a7617b064",
   "metadata": {},
   "outputs": [],
   "source": [
    "a=int(input(\"enter the number:\"))\n",
    "def primenum(a):\n",
    "   if a <=1:\n",
    "      print(\" not a prime num\")\n",
    "   else:\n",
    "      for i in range (2,a):\n",
    "         if a%i==0:\n",
    "            print(\"not a prime num\")\n",
    "            break\n",
    "      else:\n",
    "         print(\"prime \")\n",
    "primenum(a)"
   ]
  }
 ],
 "metadata": {
  "kernelspec": {
   "display_name": "Python 3 (ipykernel)",
   "language": "python",
   "name": "python3"
  },
  "language_info": {
   "codemirror_mode": {
    "name": "ipython",
    "version": 3
   },
   "file_extension": ".py",
   "mimetype": "text/x-python",
   "name": "python",
   "nbconvert_exporter": "python",
   "pygments_lexer": "ipython3",
   "version": "3.12.7"
  }
 },
 "nbformat": 4,
 "nbformat_minor": 5
}
