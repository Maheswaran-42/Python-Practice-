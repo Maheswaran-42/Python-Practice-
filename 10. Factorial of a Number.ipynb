{
 "cells": [
  {
   "cell_type": "code",
   "execution_count": 1,
   "id": "cff78f2c-68be-45f2-9437-f1917ead09bc",
   "metadata": {},
   "outputs": [
    {
     "name": "stdin",
     "output_type": "stream",
     "text": [
      "enter the num: 4\n"
     ]
    },
    {
     "name": "stdout",
     "output_type": "stream",
     "text": [
      "24\n"
     ]
    }
   ],
   "source": [
    "a=int(input(\"enter the num:\"))\n",
    "def factorial(a):\n",
    "    fact=1\n",
    "    if a < 1:\n",
    "        print(\" not defined\")\n",
    "    elif a == 1:\n",
    "        print(\" value is 1\")\n",
    "    else:\n",
    "        for val in range (1 , a+1):\n",
    "            fact = fact*val\n",
    "    print(fact)\n",
    "factorial(a)"
   ]
  },
  {
   "cell_type": "code",
   "execution_count": 6,
   "id": "b0d8ee42-1c09-4e38-a3eb-b46f51c9782e",
   "metadata": {},
   "outputs": [
    {
     "name": "stdin",
     "output_type": "stream",
     "text": [
      "enter the num : 4\n"
     ]
    },
    {
     "name": "stdout",
     "output_type": "stream",
     "text": [
      "24\n"
     ]
    }
   ],
   "source": [
    "num=int(input(\"enter the num :\"))\n",
    "fact=1\n",
    "if num < 1:\n",
    "    print(\"not\")\n",
    "elif num == 1:\n",
    "    print(\"value is 1\")\n",
    "else:\n",
    "    for i in range(1,num+1) :\n",
    "        fact=fact*i\n",
    "    print(fact)"
   ]
  },
  {
   "cell_type": "code",
   "execution_count": null,
   "id": "1987bb8a-4634-4d2c-a245-3af520021800",
   "metadata": {},
   "outputs": [],
   "source": []
  }
 ],
 "metadata": {
  "kernelspec": {
   "display_name": "Python 3 (ipykernel)",
   "language": "python",
   "name": "python3"
  },
  "language_info": {
   "codemirror_mode": {
    "name": "ipython",
    "version": 3
   },
   "file_extension": ".py",
   "mimetype": "text/x-python",
   "name": "python",
   "nbconvert_exporter": "python",
   "pygments_lexer": "ipython3",
   "version": "3.12.7"
  }
 },
 "nbformat": 4,
 "nbformat_minor": 5
}
