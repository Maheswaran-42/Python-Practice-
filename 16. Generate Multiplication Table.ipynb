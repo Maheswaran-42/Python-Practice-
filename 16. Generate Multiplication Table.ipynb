{
 "cells": [
  {
   "cell_type": "code",
   "execution_count": 3,
   "id": "cef0f030-5617-4772-9086-c341c8719592",
   "metadata": {},
   "outputs": [
    {
     "name": "stdin",
     "output_type": "stream",
     "text": [
      "enter the num: 12\n"
     ]
    },
    {
     "name": "stdout",
     "output_type": "stream",
     "text": [
      " 1 X 12=12\n",
      " 2 X 12=24\n",
      " 3 X 12=36\n",
      " 4 X 12=48\n",
      " 5 X 12=60\n",
      " 6 X 12=72\n",
      " 7 X 12=84\n",
      " 8 X 12=96\n",
      " 9 X 12=108\n",
      " 10 X 12=120\n",
      " 11 X 12=132\n",
      " 12 X 12=144\n"
     ]
    }
   ],
   "source": [
    "a=int(input(\"enter the num:\"))\n",
    "for i in range (1,a+1):\n",
    "    print(f\" {i} X {a}={a*i}\")\n"
   ]
  },
  {
   "cell_type": "code",
   "execution_count": 4,
   "id": "54c1584a-3232-4f15-929f-5d7163d48004",
   "metadata": {},
   "outputs": [
    {
     "name": "stdin",
     "output_type": "stream",
     "text": [
      "enter the num: 2\n"
     ]
    },
    {
     "name": "stdout",
     "output_type": "stream",
     "text": [
      " 1 X 2=2\n",
      " 2 X 2=4\n",
      " 3 X 2=6\n",
      " 4 X 2=8\n",
      " 5 X 2=10\n",
      " 6 X 2=12\n",
      " 7 X 2=14\n",
      " 8 X 2=16\n",
      " 9 X 2=18\n",
      " 10 X 2=20\n",
      " 11 X 2=22\n",
      " 12 X 2=24\n",
      " 13 X 2=26\n",
      " 14 X 2=28\n",
      " 15 X 2=30\n",
      " 16 X 2=32\n"
     ]
    }
   ],
   "source": [
    "a=int(input(\"enter the num:\"))\n",
    "for i in range (1,17):\n",
    "    print(f\" {i} X {a}={a*i}\")\n"
   ]
  },
  {
   "cell_type": "code",
   "execution_count": null,
   "id": "b20341e5-9d53-44ff-bb05-dabe2a30f585",
   "metadata": {},
   "outputs": [],
   "source": []
  }
 ],
 "metadata": {
  "kernelspec": {
   "display_name": "Python 3 (ipykernel)",
   "language": "python",
   "name": "python3"
  },
  "language_info": {
   "codemirror_mode": {
    "name": "ipython",
    "version": 3
   },
   "file_extension": ".py",
   "mimetype": "text/x-python",
   "name": "python",
   "nbconvert_exporter": "python",
   "pygments_lexer": "ipython3",
   "version": "3.12.7"
  }
 },
 "nbformat": 4,
 "nbformat_minor": 5
}
