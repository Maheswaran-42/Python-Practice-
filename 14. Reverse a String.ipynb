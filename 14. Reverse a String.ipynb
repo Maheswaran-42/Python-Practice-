{
 "cells": [
  {
   "cell_type": "code",
   "execution_count": 3,
   "id": "ef6eb88e-a690-4ee0-ba74-27a4258f80bb",
   "metadata": {},
   "outputs": [
    {
     "name": "stdin",
     "output_type": "stream",
     "text": [
      "enter your name: mahws\n"
     ]
    },
    {
     "name": "stdout",
     "output_type": "stream",
     "text": [
      "reversed string :  swham\n"
     ]
    }
   ],
   "source": [
    "a=input(\"enter your name:\")\n",
    "b=[]\n",
    "def reverse(a,b):\n",
    "    for i in a:\n",
    "        b=a[::-1]\n",
    "    print(\"reversed string : \",b)\n",
    "reverse(a,b)\n"
   ]
  },
  {
   "cell_type": "code",
   "execution_count": null,
   "id": "65cd32bd-eadc-4674-8844-7c826364873c",
   "metadata": {},
   "outputs": [],
   "source": []
  }
 ],
 "metadata": {
  "kernelspec": {
   "display_name": "Python 3 (ipykernel)",
   "language": "python",
   "name": "python3"
  },
  "language_info": {
   "codemirror_mode": {
    "name": "ipython",
    "version": 3
   },
   "file_extension": ".py",
   "mimetype": "text/x-python",
   "name": "python",
   "nbconvert_exporter": "python",
   "pygments_lexer": "ipython3",
   "version": "3.12.7"
  }
 },
 "nbformat": 4,
 "nbformat_minor": 5
}
