{
 "cells": [
  {
   "cell_type": "code",
   "execution_count": null,
   "id": "13bb1695-ddd8-4f95-b699-1e22e17c628e",
   "metadata": {},
   "outputs": [],
   "source": [
    "n=int(input(\"enter the number of students in the class :\"))\n",
    "for i in range(n):\n",
    "    marks=int(input(f\"Enter the marks for student {i+1}: \"))\n",
    "    if marks <0 or marks >100:\n",
    "        print(\"***** enter the valid marks ***** \")\n",
    "    elif marks >=95:\n",
    "        print(\"The grade is A+ , Excellent!!\")\n",
    "    elif marks >=90:\n",
    "        print(\"The grade is A , Very good!!\")\n",
    "    elif marks >=85:\n",
    "        print(\"The grade is B+ , Good!!\")\n",
    "    elif marks >=80:\n",
    "        print(\"The grade is B , good job!!\" )\n",
    "    elif marks >= 70:\n",
    "        print(\"The grade is C , can improve!!\")\n",
    "    elif marks >= 60:\n",
    "        print (\"The grade is D, good Effort!!\")\n",
    "    elif marks >=50:\n",
    "        print(\"The grade is E ,needs more effort!!\")\n",
    "    elif marks >=40:\n",
    "        print(\"The grade is F , try harder!!\")\n",
    "    elif marks <=39:\n",
    "        print(\" Fail , Poor!!\")\n",
    "   \n",
    "     "
   ]
  },
  {
   "cell_type": "code",
   "execution_count": null,
   "id": "f41b041c-0567-4743-ba69-3b1608896401",
   "metadata": {},
   "outputs": [],
   "source": []
  },
  {
   "cell_type": "code",
   "execution_count": null,
   "id": "505a5a36-5741-4103-9127-2010cd6f55e5",
   "metadata": {},
   "outputs": [],
   "source": []
  }
 ],
 "metadata": {
  "kernelspec": {
   "display_name": "Python 3 (ipykernel)",
   "language": "python",
   "name": "python3"
  },
  "language_info": {
   "codemirror_mode": {
    "name": "ipython",
    "version": 3
   },
   "file_extension": ".py",
   "mimetype": "text/x-python",
   "name": "python",
   "nbconvert_exporter": "python",
   "pygments_lexer": "ipython3",
   "version": "3.12.7"
  }
 },
 "nbformat": 4,
 "nbformat_minor": 5
}
