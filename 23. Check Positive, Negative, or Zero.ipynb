{
 "cells": [
  {
   "cell_type": "code",
   "execution_count": 1,
   "id": "a8dfdc16-a22f-4758-a29a-db2fc22bcdc4",
   "metadata": {},
   "outputs": [
    {
     "name": "stdin",
     "output_type": "stream",
     "text": [
      "enter the number: 8\n"
     ]
    },
    {
     "name": "stdout",
     "output_type": "stream",
     "text": [
      " the given value is positive\n"
     ]
    }
   ],
   "source": [
    "a=int(input(\"enter the number:\"))\n",
    "if a ==0:\n",
    "    print(\" the given value is zero\")\n",
    "elif a < 0:\n",
    "    print(\"the given value is negative\")\n",
    "elif a > 0:\n",
    "    print(\" the given value is positive\")\n",
    "else:\n",
    "    print(\"invalid entry\")\n",
    "\n",
    "    "
   ]
  },
  {
   "cell_type": "code",
   "execution_count": null,
   "id": "ec9cfaea-be97-4ae3-9767-02fbcf88e72c",
   "metadata": {},
   "outputs": [],
   "source": []
  }
 ],
 "metadata": {
  "kernelspec": {
   "display_name": "Python 3 (ipykernel)",
   "language": "python",
   "name": "python3"
  },
  "language_info": {
   "codemirror_mode": {
    "name": "ipython",
    "version": 3
   },
   "file_extension": ".py",
   "mimetype": "text/x-python",
   "name": "python",
   "nbconvert_exporter": "python",
   "pygments_lexer": "ipython3",
   "version": "3.12.7"
  }
 },
 "nbformat": 4,
 "nbformat_minor": 5
}
