{
 "cells": [
  {
   "cell_type": "code",
   "execution_count": 1,
   "id": "a8983c95-7174-4cc8-b281-28da827bf5dd",
   "metadata": {},
   "outputs": [
    {
     "name": "stdin",
     "output_type": "stream",
     "text": [
      "Enter a decimal number:  33\n"
     ]
    },
    {
     "name": "stdout",
     "output_type": "stream",
     "text": [
      "Binary: 100001\n"
     ]
    }
   ],
   "source": [
    "num = int(input(\"Enter a decimal number: \"))\n",
    "binary = \"\"\n",
    "while num > 0:\n",
    "    remainder = num % 2      \n",
    "    binary = str(remainder) + binary  \n",
    "    num = num // 2          \n",
    "print(\"Binary:\", binary)"
   ]
  },
  {
   "cell_type": "code",
   "execution_count": null,
   "id": "51a94db1-94d7-4f37-bbff-a559eeaf88b5",
   "metadata": {},
   "outputs": [],
   "source": []
  }
 ],
 "metadata": {
  "kernelspec": {
   "display_name": "Python 3 (ipykernel)",
   "language": "python",
   "name": "python3"
  },
  "language_info": {
   "codemirror_mode": {
    "name": "ipython",
    "version": 3
   },
   "file_extension": ".py",
   "mimetype": "text/x-python",
   "name": "python",
   "nbconvert_exporter": "python",
   "pygments_lexer": "ipython3",
   "version": "3.12.7"
  }
 },
 "nbformat": 4,
 "nbformat_minor": 5
}
