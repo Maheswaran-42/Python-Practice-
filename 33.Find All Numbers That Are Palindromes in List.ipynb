{
 "cells": [
  {
   "cell_type": "code",
   "execution_count": 1,
   "id": "aec37ed8-02de-4570-a77f-eb5053c6116b",
   "metadata": {},
   "outputs": [
    {
     "data": {
      "text/plain": [
       "[121, 88]"
      ]
     },
     "execution_count": 1,
     "metadata": {},
     "output_type": "execute_result"
    }
   ],
   "source": [
    "a=[121,133,123,88,97]\n",
    "def palin(a):\n",
    "    result =[]\n",
    "    for i in a:\n",
    "        if str(i)==str(i)[::-1]:\n",
    "           result.append(i)\n",
    "    return result\n",
    "palin(a)\n",
    "        "
   ]
  },
  {
   "cell_type": "code",
   "execution_count": null,
   "id": "ea0630ae-138f-45be-a66f-8636073f22f9",
   "metadata": {},
   "outputs": [],
   "source": []
  }
 ],
 "metadata": {
  "kernelspec": {
   "display_name": "Python 3 (ipykernel)",
   "language": "python",
   "name": "python3"
  },
  "language_info": {
   "codemirror_mode": {
    "name": "ipython",
    "version": 3
   },
   "file_extension": ".py",
   "mimetype": "text/x-python",
   "name": "python",
   "nbconvert_exporter": "python",
   "pygments_lexer": "ipython3",
   "version": "3.12.7"
  }
 },
 "nbformat": 4,
 "nbformat_minor": 5
}
