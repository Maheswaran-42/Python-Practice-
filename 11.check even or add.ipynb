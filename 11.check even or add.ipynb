{
 "cells": [
  {
   "cell_type": "code",
   "execution_count": null,
   "id": "5152570a-7d0e-44d5-b3f6-ba53c2bbbae2",
   "metadata": {},
   "outputs": [],
   "source": [
    "a=int(input(\"enter the num:\"))\n",
    "if a % 2==0:\n",
    "    print(\" the num is evven\")\n",
    "elif a %2==1:\n",
    "     print(\"the num is odd\")\n"
   ]
  }
 ],
 "metadata": {
  "kernelspec": {
   "display_name": "Python 3 (ipykernel)",
   "language": "python",
   "name": "python3"
  },
  "language_info": {
   "codemirror_mode": {
    "name": "ipython",
    "version": 3
   },
   "file_extension": ".py",
   "mimetype": "text/x-python",
   "name": "python",
   "nbconvert_exporter": "python",
   "pygments_lexer": "ipython3",
   "version": "3.12.7"
  }
 },
 "nbformat": 4,
 "nbformat_minor": 5
}
