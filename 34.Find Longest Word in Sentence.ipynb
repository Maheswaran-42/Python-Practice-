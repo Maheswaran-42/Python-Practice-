{
 "cells": [
  {
   "cell_type": "code",
   "execution_count": 1,
   "id": "7b43409a-d1e8-4474-bb14-08e37483f529",
   "metadata": {},
   "outputs": [
    {
     "name": "stdin",
     "output_type": "stream",
     "text": [
      "enter the para: maheswaran mahes\n"
     ]
    },
    {
     "name": "stdout",
     "output_type": "stream",
     "text": [
      "maheswaran\n"
     ]
    }
   ],
   "source": [
    "a=str(input(\"enter the para:\")).split()\n",
    "longest=\"\"\n",
    "for word in a :\n",
    "    if len(word)>len(longest):\n",
    "        longest=word\n",
    "print(longest)\n"
   ]
  },
  {
   "cell_type": "code",
   "execution_count": null,
   "id": "36d1899d-cc37-4d3a-91de-1b55e1364687",
   "metadata": {},
   "outputs": [],
   "source": []
  }
 ],
 "metadata": {
  "kernelspec": {
   "display_name": "Python 3 (ipykernel)",
   "language": "python",
   "name": "python3"
  },
  "language_info": {
   "codemirror_mode": {
    "name": "ipython",
    "version": 3
   },
   "file_extension": ".py",
   "mimetype": "text/x-python",
   "name": "python",
   "nbconvert_exporter": "python",
   "pygments_lexer": "ipython3",
   "version": "3.12.7"
  }
 },
 "nbformat": 4,
 "nbformat_minor": 5
}
