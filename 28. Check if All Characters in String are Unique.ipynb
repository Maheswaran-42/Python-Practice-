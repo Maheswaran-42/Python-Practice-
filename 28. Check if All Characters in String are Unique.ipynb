{
 "cells": [
  {
   "cell_type": "code",
   "execution_count": 1,
   "id": "12a7505e-3e69-479f-b9b8-488ed3e49749",
   "metadata": {},
   "outputs": [
    {
     "name": "stdin",
     "output_type": "stream",
     "text": [
      "enter the name: mahea\n"
     ]
    },
    {
     "name": "stdout",
     "output_type": "stream",
     "text": [
      "not unique\n",
      "mahe\n"
     ]
    }
   ],
   "source": [
    "a=input(\"enter the name:\")\n",
    "b=\"\"\n",
    "for i in a :\n",
    "    if i in b :\n",
    "        print(\"The string is not unique \")\n",
    "        break\n",
    "    b+=i\n",
    "        \n",
    "else:\n",
    "    print(\"The given string is unique string\")\n",
    "print(b)"
   ]
  },
  {
   "cell_type": "code",
   "execution_count": null,
   "id": "924069dc-c9bf-4810-80ea-dfb54468f63b",
   "metadata": {},
   "outputs": [],
   "source": []
  }
 ],
 "metadata": {
  "kernelspec": {
   "display_name": "Python 3 (ipykernel)",
   "language": "python",
   "name": "python3"
  },
  "language_info": {
   "codemirror_mode": {
    "name": "ipython",
    "version": 3
   },
   "file_extension": ".py",
   "mimetype": "text/x-python",
   "name": "python",
   "nbconvert_exporter": "python",
   "pygments_lexer": "ipython3",
   "version": "3.12.7"
  }
 },
 "nbformat": 4,
 "nbformat_minor": 5
}
