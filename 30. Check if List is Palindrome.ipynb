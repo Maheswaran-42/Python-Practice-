{
 "cells": [
  {
   "cell_type": "code",
   "execution_count": 4,
   "id": "fb3f3473-d405-4340-85d0-17aa5243f33f",
   "metadata": {},
   "outputs": [
    {
     "name": "stdin",
     "output_type": "stream",
     "text": [
      "enter the num 121\n"
     ]
    },
    {
     "name": "stdout",
     "output_type": "stream",
     "text": [
      "palindrome\n"
     ]
    }
   ],
   "source": [
    "a=list(input(\"enter the num\"))\n",
    "def palindromeforalist(a):\n",
    "    if a==a[::-1]:\n",
    "        print(\"The given num is a palindrome\")\n",
    "    else:\n",
    "        print(\"the given num is not a palindrome\")\n",
    "palindromeforalist(a)"
   ]
  },
  {
   "cell_type": "code",
   "execution_count": null,
   "id": "8ae3e29f-8112-4adc-8442-e577ea8fb616",
   "metadata": {},
   "outputs": [],
   "source": []
  }
 ],
 "metadata": {
  "kernelspec": {
   "display_name": "Python 3 (ipykernel)",
   "language": "python",
   "name": "python3"
  },
  "language_info": {
   "codemirror_mode": {
    "name": "ipython",
    "version": 3
   },
   "file_extension": ".py",
   "mimetype": "text/x-python",
   "name": "python",
   "nbconvert_exporter": "python",
   "pygments_lexer": "ipython3",
   "version": "3.12.7"
  }
 },
 "nbformat": 4,
 "nbformat_minor": 5
}
