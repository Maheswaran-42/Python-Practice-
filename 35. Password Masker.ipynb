{
 "cells": [
  {
   "cell_type": "markdown",
   "id": "0b42a99a-6602-4f64-a1a9-e34af9595438",
   "metadata": {},
   "source": [
    "\n",
    "Input: \"mysecret\"  \n",
    "Output: \"*******\"\n"
   ]
  },
  {
   "cell_type": "code",
   "execution_count": 1,
   "id": "675c23fe-0e39-477f-b038-19b7afd8f1d1",
   "metadata": {},
   "outputs": [
    {
     "name": "stdin",
     "output_type": "stream",
     "text": [
      "Enter your password:  mahes\n"
     ]
    },
    {
     "name": "stdout",
     "output_type": "stream",
     "text": [
      "*****\n"
     ]
    }
   ],
   "source": [
    "password = input(\"Enter your password: \")\n",
    "masked = '*' * len(password)\n",
    "print(masked)\n"
   ]
  },
  {
   "cell_type": "code",
   "execution_count": null,
   "id": "8142ffaf-14e0-40f7-b8d4-88e42542b614",
   "metadata": {},
   "outputs": [],
   "source": []
  }
 ],
 "metadata": {
  "kernelspec": {
   "display_name": "Python 3 (ipykernel)",
   "language": "python",
   "name": "python3"
  },
  "language_info": {
   "codemirror_mode": {
    "name": "ipython",
    "version": 3
   },
   "file_extension": ".py",
   "mimetype": "text/x-python",
   "name": "python",
   "nbconvert_exporter": "python",
   "pygments_lexer": "ipython3",
   "version": "3.12.7"
  }
 },
 "nbformat": 4,
 "nbformat_minor": 5
}
