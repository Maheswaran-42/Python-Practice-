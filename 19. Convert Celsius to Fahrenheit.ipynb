{
 "cells": [
  {
   "cell_type": "code",
   "execution_count": 7,
   "id": "88c01202-9717-4cfe-882e-73026a542236",
   "metadata": {},
   "outputs": [
    {
     "name": "stdin",
     "output_type": "stream",
     "text": [
      "Enter the Celsius:  23\n"
     ]
    },
    {
     "name": "stdout",
     "output_type": "stream",
     "text": [
      "The Fahrenheit for Celsius 23 is: 73.4\n"
     ]
    }
   ],
   "source": [
    "celsius = int(input(\"Enter the Celsius: \"))\n",
    "fahrenheit = (celsius * 1.8) + 32\n",
    "print(f\"The Fahrenheit for Celsius {celsius} is: {fahrenheit}\")\n"
   ]
  },
  {
   "cell_type": "code",
   "execution_count": null,
   "id": "b6b88f69-e9d2-489e-b4a2-31792b940c90",
   "metadata": {},
   "outputs": [],
   "source": []
  }
 ],
 "metadata": {
  "kernelspec": {
   "display_name": "Python 3 (ipykernel)",
   "language": "python",
   "name": "python3"
  },
  "language_info": {
   "codemirror_mode": {
    "name": "ipython",
    "version": 3
   },
   "file_extension": ".py",
   "mimetype": "text/x-python",
   "name": "python",
   "nbconvert_exporter": "python",
   "pygments_lexer": "ipython3",
   "version": "3.12.7"
  }
 },
 "nbformat": 4,
 "nbformat_minor": 5
}
